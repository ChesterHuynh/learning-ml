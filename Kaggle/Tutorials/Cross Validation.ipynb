{
 "cells": [
  {
   "cell_type": "code",
   "execution_count": 5,
   "metadata": {},
   "outputs": [
    {
     "name": "stdout",
     "output_type": "stream",
     "text": [
      "[-44127.5905379  -45426.83705815 -42525.96434106]\n",
      "Mean Absolute Error 44026.797312\n"
     ]
    }
   ],
   "source": [
    "# shortcoming of train-test split: you lose out on number of possible samples to test\n",
    "# more test cases --> less random chance to have high accuracy, \n",
    "# but also less train cases --> worse models\n",
    "# Split up data into folds and hold-out one fold while using others as training data to create models,\n",
    "# repeat for every fold\n",
    "# Very heavy computational burden for large datasets\n",
    "# better for small datasets\n",
    "# Use pipelines, makes cross-validation easier\n",
    "\n",
    "import pandas as pd\n",
    "from sklearn.ensemble import RandomForestRegressor\n",
    "from sklearn.pipeline import make_pipeline\n",
    "from sklearn.preprocessing import Imputer\n",
    "from sklearn.model_selection import cross_val_score\n",
    "\n",
    "my_pipeline = make_pipeline(Imputer(), RandomForestRegressor())\n",
    "\n",
    "data = pd.read_csv('/Users/ChesterHuynh/learningml/Kaggle/Tutorials/house-prices-advanced-regression-techniques/train.csv')\n",
    "cols_to_use = ['LotFrontage', 'MSSubClass', 'PoolArea', 'LotArea']\n",
    "X = data[cols_to_use]\n",
    "y = data.SalePrice\n",
    "\n",
    "scores = cross_val_score(my_pipeline, X, y, scoring='neg_mean_absolute_error')\n",
    "print(scores)\n",
    "\n",
    "print('Mean Absolute Error %2f' %(-1*scores.mean()))\n"
   ]
  },
  {
   "cell_type": "code",
   "execution_count": null,
   "metadata": {
    "collapsed": true
   },
   "outputs": [],
   "source": []
  }
 ],
 "metadata": {
  "kernelspec": {
   "display_name": "Python 3",
   "language": "python",
   "name": "python3"
  },
  "language_info": {
   "codemirror_mode": {
    "name": "ipython",
    "version": 3
   },
   "file_extension": ".py",
   "mimetype": "text/x-python",
   "name": "python",
   "nbconvert_exporter": "python",
   "pygments_lexer": "ipython3",
   "version": "3.6.3"
  }
 },
 "nbformat": 4,
 "nbformat_minor": 2
}
