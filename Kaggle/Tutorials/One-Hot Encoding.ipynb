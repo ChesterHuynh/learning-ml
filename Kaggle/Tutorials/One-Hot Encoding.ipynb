{
 "cells": [
  {
   "cell_type": "code",
   "execution_count": 2,
   "metadata": {
    "collapsed": true
   },
   "outputs": [],
   "source": [
    "# Categorical data - takes on a limited number of values\n",
    "# Usually will get errors if you try to directly plug these variables in\n",
    "# One-hot Encoding is useful for categorical variables that don't take on\n",
    "# too many values - it createst new (binary) columns, indicating the\n",
    "# presence of each possible value from the original data"
   ]
  },
  {
   "cell_type": "code",
   "execution_count": 16,
   "metadata": {},
   "outputs": [],
   "source": [
    "# Read in data\n",
    "import pandas as pd\n",
    "train_data = pd.read_csv('/Users/ChesterHuynh/learningml/Kaggle/Tutorials/house-prices-advanced-regression-techniques/train.csv')\n",
    "test_data = pd.read_csv('/Users/ChesterHuynh/learningml/Kaggle/Tutorials/house-prices-advanced-regression-techniques/test.csv')\n",
    "\n",
    "# Drop houses where the target value is missing\n",
    "train_data.dropna(axis=0, subset=['SalePrice'], inplace=True)\n",
    "\n",
    "target = train_data.SalePrice\n",
    "\n",
    "# We drop columns with missing values for simplicity\n",
    "cols_with_missing = [col for col in train_data.columns\n",
    "                                if train_data[col].isnull().any()]\n",
    "candidate_train_predictors = train_data.drop(['Id', 'SalePrice'] + cols_with_missing, axis=1)\n",
    "candidate_test_predictors = train_data.drop(['Id'] + cols_with_missing, axis=1)\n",
    "\n",
    "# cardinality := number of unique values in a column (useful for categorical values)\n",
    "# Use it to select categorical columns that take on low amount of values\n",
    "low_cardinality_cols = [cname for cname in candidate_train_predictors.columns\n",
    "                               if candidate_train_predictors[cname].nunique() < 10 and\n",
    "                                   candidate_train_predictors[cname].dtype == \"object\"]\n",
    "numeric_cols = [cname for cname in candidate_train_predictors.columns\n",
    "                        if candidate_train_predictors[cname].dtype in [\"int64\", \"float64\"]]\n",
    "\n",
    "my_cols = low_cardinality_cols + numeric_cols\n",
    "train_predictors = candidate_train_predictors[my_cols]\n",
    "test_predictors = candidate_test_predictors[my_cols]"
   ]
  },
  {
   "cell_type": "code",
   "execution_count": 21,
   "metadata": {},
   "outputs": [
    {
     "name": "stdout",
     "output_type": "stream",
     "text": [
      "RoofStyle       object\n",
      "MiscVal          int64\n",
      "KitchenQual     object\n",
      "2ndFlrSF         int64\n",
      "TotalBsmtSF      int64\n",
      "YrSold           int64\n",
      "BsmtFinSF2       int64\n",
      "BedroomAbvGr     int64\n",
      "LotArea          int64\n",
      "BldgType        object\n",
      "dtype: object\n",
      "(1460, 57)\n"
     ]
    }
   ],
   "source": [
    "print(train_predictors.dtypes.sample(10))\n",
    "print(train_predictors.shape)"
   ]
  },
  {
   "cell_type": "code",
   "execution_count": 22,
   "metadata": {
    "collapsed": true
   },
   "outputs": [],
   "source": [
    "# Object indicates a column has text. Most common to one-hot encode these \"object\" columns\n",
    "# Pandas offers a convenient function called get_dummies to get one-hot encodings\n",
    "one_hot_encoded_training_predictors = pd.get_dummies(train_predictors)"
   ]
  },
  {
   "cell_type": "code",
   "execution_count": 24,
   "metadata": {},
   "outputs": [
    {
     "name": "stdout",
     "output_type": "stream",
     "text": [
      "Mean Absolute Error when Dropping Categoricals: 18462\n",
      "Mean Abslute Error with One-Hot Encoding: 17883\n"
     ]
    }
   ],
   "source": [
    "# Alternatively, we could've just droped the categoricals. Let's compare the two approaches\n",
    "from sklearn.model_selection import cross_val_score\n",
    "from sklearn.ensemble import RandomForestRegressor\n",
    "\n",
    "def get_mae(X, y):\n",
    "    # multiply by -1 to make positive MAE score instead of neg value returned as sklearn convention\n",
    "    return -1 * cross_val_score(RandomForestRegressor(50), X, y, scoring = 'neg_mean_absolute_error').mean()\n",
    "\n",
    "# 1) One-hot encoded categoricals as well as numeric predictors\n",
    "predictors_without_categoricals = train_predictors.select_dtypes(exclude=['object'])\n",
    "\n",
    "mae_without_categoricals = get_mae(predictors_without_categoricals, target)\n",
    "\n",
    "mae_one_hot_encoded = get_mae(one_hot_encoded_training_predictors, target)\n",
    "\n",
    "print('Mean Absolute Error when Dropping Categoricals: ' + str(int(mae_without_categoricals)))\n",
    "\n",
    "print('Mean Abslute Error with One-Hot Encoding: ' + str(int(mae_one_hot_encoded)))"
   ]
  },
  {
   "cell_type": "code",
   "execution_count": 25,
   "metadata": {
    "collapsed": true
   },
   "outputs": [],
   "source": [
    "# When comparing multiple files, you need to ensure that the ordering of columns is consistent \n",
    "# and aligned across training and test datasets, otherwise, you get nonsense\n",
    "\n",
    "# align command makes sure the columns show up in the same order in both datasets\n",
    "# join='left' specifies that if there are ever columns that show up in one dataset and not the other, \n",
    "# we will keep exactly the columns from our training data (i.e. left dataset input).\n",
    "# join='inner' would keep only the columns shared by both datasets\n",
    "\n",
    "one_hot_encoded_training_predictors = pd.get_dummies(train_predictors)\n",
    "one_hot_encoded_test_predictors = pd.get_dummies(test_predictors)\n",
    "final_train, final_test = one_hot_encoded_training_predictors.align(one_hot_encoded_test_predictors, join='left', axis=1)"
   ]
  },
  {
   "cell_type": "code",
   "execution_count": null,
   "metadata": {
    "collapsed": true
   },
   "outputs": [],
   "source": []
  }
 ],
 "metadata": {
  "kernelspec": {
   "display_name": "Python 3",
   "language": "python",
   "name": "python3"
  },
  "language_info": {
   "codemirror_mode": {
    "name": "ipython",
    "version": 3
   },
   "file_extension": ".py",
   "mimetype": "text/x-python",
   "name": "python",
   "nbconvert_exporter": "python",
   "pygments_lexer": "ipython3",
   "version": "3.6.3"
  }
 },
 "nbformat": 4,
 "nbformat_minor": 2
}
