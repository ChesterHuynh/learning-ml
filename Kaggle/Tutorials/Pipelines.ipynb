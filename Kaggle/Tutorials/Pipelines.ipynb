{
 "cells": [
  {
   "cell_type": "code",
   "execution_count": 6,
   "metadata": {},
   "outputs": [],
   "source": [
    "# streamline steps\n",
    "# a transformer - pre-processes data before modeling, e.g. Imputer\n",
    "# pipelines start with a transformer, and then a model\n",
    "import pandas as pd\n",
    "from sklearn.model_selection import train_test_split\n",
    "from sklearn.ensemble import RandomForestRegressor\n",
    "from sklearn.pipeline import make_pipeline\n",
    "from sklearn.preprocessing import Imputer\n",
    "\n",
    "data = pd.read_csv('/Users/ChesterHuynh/learningml/Kaggle/Tutorials/house-prices-advanced-regression-techniques/train.csv')\n",
    "cols_to_use = ['LotFrontage', 'MSSubClass', 'PoolArea', 'LotArea']\n",
    "X = data[cols_to_use]\n",
    "y = data.SalePrice\n",
    "train_X, test_X, train_y, test_y = train_test_split(X, y)\n",
    "\n",
    "my_pipeline = make_pipeline(Imputer(), RandomForestRegressor()) # bundle imputation and model creation steps\n",
    "my_pipeline.fit(train_X, train_y)\n",
    "predictions = my_pipeline.predict(test_X)"
   ]
  },
  {
   "cell_type": "code",
   "execution_count": null,
   "metadata": {
    "collapsed": true
   },
   "outputs": [],
   "source": []
  }
 ],
 "metadata": {
  "kernelspec": {
   "display_name": "Python 3",
   "language": "python",
   "name": "python3"
  },
  "language_info": {
   "codemirror_mode": {
    "name": "ipython",
    "version": 3
   },
   "file_extension": ".py",
   "mimetype": "text/x-python",
   "name": "python",
   "nbconvert_exporter": "python",
   "pygments_lexer": "ipython3",
   "version": "3.6.3"
  }
 },
 "nbformat": 4,
 "nbformat_minor": 2
}
