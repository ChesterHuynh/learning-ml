{
 "cells": [
  {
   "cell_type": "code",
   "execution_count": null,
   "metadata": {
    "collapsed": true
   },
   "outputs": [],
   "source": [
    "# Leakage causes a model to look accurate until you start making decisions, then the model becomes very inaccurate\n",
    "# (1) Leaky Predictors and (2) Leaky Validation Strategies\n",
    "# (1) Leaky Predictors - when predictors include data that will not be available at the time you make predictions\n",
    "# any variable updated/created after the target value is realized should be excluded\n",
    "# Leaky Predictors frequently have high statistical correlation scores\n",
    "# This might be detectable if you have an extremely accurate model\n",
    "# (2) Leaky Validation Strategy - using validation data in your training data...leads to falsely accurate models\n",
    "# Exclude validation data from any type of fitting, do preprocessing within pipelines\n",
    "\n"
   ]
  }
 ],
 "metadata": {
  "kernelspec": {
   "display_name": "Python 3",
   "language": "python",
   "name": "python3"
  },
  "language_info": {
   "codemirror_mode": {
    "name": "ipython",
    "version": 3
   },
   "file_extension": ".py",
   "mimetype": "text/x-python",
   "name": "python",
   "nbconvert_exporter": "python",
   "pygments_lexer": "ipython3",
   "version": "3.6.3"
  }
 },
 "nbformat": 4,
 "nbformat_minor": 2
}
