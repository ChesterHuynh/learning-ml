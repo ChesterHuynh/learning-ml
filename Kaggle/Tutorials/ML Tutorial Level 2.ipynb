{
 "cells": [
  {
   "cell_type": "code",
   "execution_count": 20,
   "metadata": {
    "collapsed": true,
    "scrolled": true
   },
   "outputs": [],
   "source": [
    "import pandas as pd\n",
    "from sklearn.ensemble import RandomForestRegressor\n",
    "from sklearn.metrics import mean_absolute_error\n",
    "from sklearn.model_selection import train_test_split\n",
    "\n",
    "# Load data\n",
    "main_file_path = '/Users/ChesterHuynh/learningml/Kaggle/Tutorials/house-prices-advanced-regression-techniques/train.csv'\n",
    "data = pd.read_csv(main_file_path)\n",
    "\n",
    "housing_target = data.SalePrice\n",
    "housing_predictors = data.drop(['SalePrice'], axis=1) \n",
    "# Dataframe axis=1, means left to right across columns, axis=0, \n",
    "# means up to down across rows\n",
    "\n",
    "# Only using numerical predictors, dropping any \"objects\"\n",
    "housing_num_predictors = housing_predictors.select_dtypes(exclude=['object'])\n",
    "\n",
    "\n",
    "# Defining a function to validate the model quantitatively\n",
    "X_train, X_test, y_train, y_test = train_test_split(housing_num_predictors, housing_target, train_size = 0.7, test_size = 0.3, random_state = 0)\n",
    "def score_dataset(X_train, X_test, y_train, y_test):\n",
    "    model = RandomForestRegressor()\n",
    "    model.fit(X_train, y_train)\n",
    "    preds = model.predict(X_test)\n",
    "    return mean_absolute_error(y_test, preds) # MAE = (Sum(|y-yhat|))/n"
   ]
  },
  {
   "cell_type": "code",
   "execution_count": 23,
   "metadata": {},
   "outputs": [
    {
     "name": "stdout",
     "output_type": "stream",
     "text": [
      "Mean Absolute Error from dropping columns with Missing Values: \n",
      "19847.9824201\n"
     ]
    }
   ],
   "source": [
    "# 1) Simply Dropping Columns with Missing Values\n",
    "cols_with_missing = [col for col in train_X.columns \n",
    "                     if X_train[col].isnull().any()]\n",
    "# .any() basically gives a bool of whether or not an array has a NaN\n",
    "reduced_X_train = X_train.drop(cols_with_missing, axis=1)\n",
    "reduced_X_test = X_test.drop(cols_with_missing, axis=1)\n",
    "print(\"Mean Absolute Error from dropping columns with Missing Values: \")\n",
    "print(score_dataset(reduced_X_train, reduced_X_test, y_train, y_test))"
   ]
  },
  {
   "cell_type": "code",
   "execution_count": 25,
   "metadata": {},
   "outputs": [
    {
     "name": "stdout",
     "output_type": "stream",
     "text": [
      "Mean Absolute Error from Imputation: \n",
      "18743.2084475\n"
     ]
    }
   ],
   "source": [
    "# 2) Imputation - filling in missing values with some number\n",
    "from sklearn.preprocessing import Imputer\n",
    "my_imputer = Imputer()\n",
    "imputed_X_train = my_imputer.fit_transform(X_train) \n",
    "# imputer.fit_transform does not replace the initial array, it makes a new one\n",
    "imputed_X_test = my_imputer.fit_transform(X_test)\n",
    "print(\"Mean Absolute Error from Imputation: \")\n",
    "print(score_dataset(imputed_X_train, imputed_X_test, y_train, y_test))\n"
   ]
  },
  {
   "cell_type": "code",
   "execution_count": 33,
   "metadata": {
    "scrolled": false
   },
   "outputs": [
    {
     "name": "stdout",
     "output_type": "stream",
     "text": [
      "Mean Absolute Error from Imputation while Track What Was Imputed: \n",
      "18879.6273973\n"
     ]
    }
   ],
   "source": [
    "# 3) Imputation with a consideration of which values were originally missing\n",
    "\n",
    "# making copy to avoid changing original data\n",
    "imputed_X_train_plus = X_train.copy()\n",
    "imputed_X_test_plus = X_test.copy()\n",
    "\n",
    "# make new columns indicating what will be imputed\n",
    "cols_with_missing = (col for col in X_train.columns\n",
    "                                if X_train[col].isnull().any())\n",
    "for col in cols_with_missing:\n",
    "    imputed_X_train_plus[col + '_was_missing'] = imputed_X_train_plus[col].isnull()\n",
    "    imputed_X_test_plus[col + '_was_missing'] = imputed_X_test_plus[col].isnull()\n",
    "    \n",
    "# Imputation\n",
    "my_imputer = Imputer()\n",
    "imputed_X_train_plus = my_imputer.fit_transform(imputed_X_train_plus)\n",
    "imputed_X_test_plus = my_imputer.fit_transform(imputed_X_test_plus)\n",
    "\n",
    "print(\"Mean Absolute Error from Imputation while Track What Was Imputed: \")\n",
    "print(score_dataset(imputed_X_train_plus, imputed_X_test_plus, y_train, y_test))"
   ]
  },
  {
   "cell_type": "code",
   "execution_count": null,
   "metadata": {
    "collapsed": true
   },
   "outputs": [],
   "source": []
  }
 ],
 "metadata": {
  "kernelspec": {
   "display_name": "Python 3",
   "language": "python",
   "name": "python3"
  },
  "language_info": {
   "codemirror_mode": {
    "name": "ipython",
    "version": 3
   },
   "file_extension": ".py",
   "mimetype": "text/x-python",
   "name": "python",
   "nbconvert_exporter": "python",
   "pygments_lexer": "ipython3",
   "version": "3.6.3"
  }
 },
 "nbformat": 4,
 "nbformat_minor": 2
}
